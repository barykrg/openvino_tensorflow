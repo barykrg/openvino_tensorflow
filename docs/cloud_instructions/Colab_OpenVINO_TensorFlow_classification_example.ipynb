{
  "nbformat": 4,
  "nbformat_minor": 0,
  "metadata": {
    "colab": {
      "name": "OpenVINO_TensorFlow_classification_example_v3.ipynb",
      "provenance": [],
      "collapsed_sections": [],
      "toc_visible": true
    },
    "kernelspec": {
      "name": "python3",
      "display_name": "Python 3"
    }
  },
  "cells": [
    {
      "cell_type": "markdown",
      "metadata": {
        "id": "m0NqXHZ9pg82"
      },
      "source": [
        "## INSTALL OpenVINO™ integration with TensorFlow\n"
      ]
    },
    {
      "cell_type": "code",
      "metadata": {
        "colab": {
          "base_uri": "https://localhost:8080/"
        },
        "id": "uOk7Kisgh1Nw",
        "outputId": "6be35faf-7031-4354-9874-aa7e6d0d2bbe"
      },
      "source": [
        "# Upload the required wheel files, models and images in a google drive folder\n",
        "# Uncomment and run the below command to copy them in your current workspace\n",
        "#!cp /content/drive/MyDrive/TF-OV/working_dir_files/* . \n",
        "\n",
        "!pip install --upgrade pip\n",
        "!pip install pillow\n",
        "\n",
        "# Install stock TensorFlow\n",
        "!pip install tensorflow==2.4.1 \n",
        "\n",
        "# Install OpenVINO™ integration with TensorFlow\n",
        "!pip install openvino-tensorflow\n"
      ],
      "execution_count": 2,
      "outputs": [
        {
          "output_type": "stream",
          "text": [
            "Requirement already satisfied: pip in /usr/local/lib/python3.7/dist-packages (21.1.2)\n",
            "\u001b[33mWARNING: Running pip as root will break packages and permissions. You should install packages reliably by using venv: https://pip.pypa.io/warnings/venv\u001b[0m\n",
            "Requirement already satisfied: pillow in /usr/local/lib/python3.7/dist-packages (7.1.2)\n",
            "\u001b[33mWARNING: Running pip as root will break packages and permissions. You should install packages reliably by using venv: https://pip.pypa.io/warnings/venv\u001b[0m\n",
            "Requirement already satisfied: tensorflow==2.4.1 in /usr/local/lib/python3.7/dist-packages (2.4.1)\n",
            "Requirement already satisfied: opt-einsum~=3.3.0 in /usr/local/lib/python3.7/dist-packages (from tensorflow==2.4.1) (3.3.0)\n",
            "Requirement already satisfied: six~=1.15.0 in /usr/local/lib/python3.7/dist-packages (from tensorflow==2.4.1) (1.15.0)\n",
            "Requirement already satisfied: wheel~=0.35 in /usr/local/lib/python3.7/dist-packages (from tensorflow==2.4.1) (0.36.2)\n",
            "Requirement already satisfied: gast==0.3.3 in /usr/local/lib/python3.7/dist-packages (from tensorflow==2.4.1) (0.3.3)\n",
            "Requirement already satisfied: numpy~=1.19.2 in /usr/local/lib/python3.7/dist-packages (from tensorflow==2.4.1) (1.19.5)\n",
            "Requirement already satisfied: astunparse~=1.6.3 in /usr/local/lib/python3.7/dist-packages (from tensorflow==2.4.1) (1.6.3)\n",
            "Requirement already satisfied: flatbuffers~=1.12.0 in /usr/local/lib/python3.7/dist-packages (from tensorflow==2.4.1) (1.12)\n",
            "Requirement already satisfied: h5py~=2.10.0 in /usr/local/lib/python3.7/dist-packages (from tensorflow==2.4.1) (2.10.0)\n",
            "Requirement already satisfied: termcolor~=1.1.0 in /usr/local/lib/python3.7/dist-packages (from tensorflow==2.4.1) (1.1.0)\n",
            "Requirement already satisfied: keras-preprocessing~=1.1.2 in /usr/local/lib/python3.7/dist-packages (from tensorflow==2.4.1) (1.1.2)\n",
            "Requirement already satisfied: tensorboard~=2.4 in /usr/local/lib/python3.7/dist-packages (from tensorflow==2.4.1) (2.4.1)\n",
            "Requirement already satisfied: tensorflow-estimator<2.5.0,>=2.4.0 in /usr/local/lib/python3.7/dist-packages (from tensorflow==2.4.1) (2.4.0)\n",
            "Requirement already satisfied: typing-extensions~=3.7.4 in /usr/local/lib/python3.7/dist-packages (from tensorflow==2.4.1) (3.7.4.3)\n",
            "Requirement already satisfied: protobuf>=3.9.2 in /usr/local/lib/python3.7/dist-packages (from tensorflow==2.4.1) (3.12.4)\n",
            "Requirement already satisfied: grpcio~=1.32.0 in /usr/local/lib/python3.7/dist-packages (from tensorflow==2.4.1) (1.32.0)\n",
            "Requirement already satisfied: absl-py~=0.10 in /usr/local/lib/python3.7/dist-packages (from tensorflow==2.4.1) (0.12.0)\n",
            "Requirement already satisfied: google-pasta~=0.2 in /usr/local/lib/python3.7/dist-packages (from tensorflow==2.4.1) (0.2.0)\n",
            "Requirement already satisfied: wrapt~=1.12.1 in /usr/local/lib/python3.7/dist-packages (from tensorflow==2.4.1) (1.12.1)\n",
            "Requirement already satisfied: setuptools in /usr/local/lib/python3.7/dist-packages (from protobuf>=3.9.2->tensorflow==2.4.1) (56.1.0)\n",
            "Requirement already satisfied: google-auth<2,>=1.6.3 in /usr/local/lib/python3.7/dist-packages (from tensorboard~=2.4->tensorflow==2.4.1) (1.30.0)\n",
            "Requirement already satisfied: tensorboard-plugin-wit>=1.6.0 in /usr/local/lib/python3.7/dist-packages (from tensorboard~=2.4->tensorflow==2.4.1) (1.8.0)\n",
            "Requirement already satisfied: google-auth-oauthlib<0.5,>=0.4.1 in /usr/local/lib/python3.7/dist-packages (from tensorboard~=2.4->tensorflow==2.4.1) (0.4.4)\n",
            "Requirement already satisfied: markdown>=2.6.8 in /usr/local/lib/python3.7/dist-packages (from tensorboard~=2.4->tensorflow==2.4.1) (3.3.4)\n",
            "Requirement already satisfied: werkzeug>=0.11.15 in /usr/local/lib/python3.7/dist-packages (from tensorboard~=2.4->tensorflow==2.4.1) (2.0.0)\n",
            "Requirement already satisfied: requests<3,>=2.21.0 in /usr/local/lib/python3.7/dist-packages (from tensorboard~=2.4->tensorflow==2.4.1) (2.23.0)\n",
            "Requirement already satisfied: pyasn1-modules>=0.2.1 in /usr/local/lib/python3.7/dist-packages (from google-auth<2,>=1.6.3->tensorboard~=2.4->tensorflow==2.4.1) (0.2.8)\n",
            "Requirement already satisfied: rsa<5,>=3.1.4 in /usr/local/lib/python3.7/dist-packages (from google-auth<2,>=1.6.3->tensorboard~=2.4->tensorflow==2.4.1) (4.7.2)\n",
            "Requirement already satisfied: cachetools<5.0,>=2.0.0 in /usr/local/lib/python3.7/dist-packages (from google-auth<2,>=1.6.3->tensorboard~=2.4->tensorflow==2.4.1) (4.2.2)\n",
            "Requirement already satisfied: requests-oauthlib>=0.7.0 in /usr/local/lib/python3.7/dist-packages (from google-auth-oauthlib<0.5,>=0.4.1->tensorboard~=2.4->tensorflow==2.4.1) (1.3.0)\n",
            "Requirement already satisfied: importlib-metadata in /usr/local/lib/python3.7/dist-packages (from markdown>=2.6.8->tensorboard~=2.4->tensorflow==2.4.1) (4.0.1)\n",
            "Requirement already satisfied: pyasn1<0.5.0,>=0.4.6 in /usr/local/lib/python3.7/dist-packages (from pyasn1-modules>=0.2.1->google-auth<2,>=1.6.3->tensorboard~=2.4->tensorflow==2.4.1) (0.4.8)\n",
            "Requirement already satisfied: idna<3,>=2.5 in /usr/local/lib/python3.7/dist-packages (from requests<3,>=2.21.0->tensorboard~=2.4->tensorflow==2.4.1) (2.10)\n",
            "Requirement already satisfied: urllib3!=1.25.0,!=1.25.1,<1.26,>=1.21.1 in /usr/local/lib/python3.7/dist-packages (from requests<3,>=2.21.0->tensorboard~=2.4->tensorflow==2.4.1) (1.24.3)\n",
            "Requirement already satisfied: certifi>=2017.4.17 in /usr/local/lib/python3.7/dist-packages (from requests<3,>=2.21.0->tensorboard~=2.4->tensorflow==2.4.1) (2020.12.5)\n",
            "Requirement already satisfied: chardet<4,>=3.0.2 in /usr/local/lib/python3.7/dist-packages (from requests<3,>=2.21.0->tensorboard~=2.4->tensorflow==2.4.1) (3.0.4)\n",
            "Requirement already satisfied: oauthlib>=3.0.0 in /usr/local/lib/python3.7/dist-packages (from requests-oauthlib>=0.7.0->google-auth-oauthlib<0.5,>=0.4.1->tensorboard~=2.4->tensorflow==2.4.1) (3.1.0)\n",
            "Requirement already satisfied: zipp>=0.5 in /usr/local/lib/python3.7/dist-packages (from importlib-metadata->markdown>=2.6.8->tensorboard~=2.4->tensorflow==2.4.1) (3.4.1)\n",
            "\u001b[33mWARNING: Running pip as root will break packages and permissions. You should install packages reliably by using venv: https://pip.pypa.io/warnings/venv\u001b[0m\n",
            "Requirement already satisfied: openvino-tensorflow in /usr/local/lib/python3.7/dist-packages (0.5.0)\n",
            "\u001b[33mWARNING: Running pip as root will break packages and permissions. You should install packages reliably by using venv: https://pip.pypa.io/warnings/venv\u001b[0m\n"
          ],
          "name": "stdout"
        }
      ]
    },
    {
      "cell_type": "code",
      "metadata": {
        "id": "sgy6S1B_rW9d",
        "colab": {
          "base_uri": "https://localhost:8080/"
        },
        "outputId": "0784df7a-20db-4c7b-9f9d-20822b0f02fc"
      },
      "source": [
        "!ldd --version"
      ],
      "execution_count": 3,
      "outputs": [
        {
          "output_type": "stream",
          "text": [
            "ldd (Ubuntu GLIBC 2.27-3ubuntu1.2) 2.27\n",
            "Copyright (C) 2018 Free Software Foundation, Inc.\n",
            "This is free software; see the source for copying conditions.  There is NO\n",
            "warranty; not even for MERCHANTABILITY or FITNESS FOR A PARTICULAR PURPOSE.\n",
            "Written by Roland McGrath and Ulrich Drepper.\n"
          ],
          "name": "stdout"
        }
      ]
    },
    {
      "cell_type": "code",
      "metadata": {
        "colab": {
          "base_uri": "https://localhost:8080/"
        },
        "id": "2MkE439_ybZB",
        "outputId": "5af8fa53-681b-4878-8e7c-0b5fcdf027cf"
      },
      "source": [
        "!git clone https://github.com/openvinotoolkit/openvino_tensorflow.git\n",
        "%cd openvino_tensorflow\n",
        "!git submodule init\n",
        "!git submodule update --recursive\n",
        "%cd ..\n"
      ],
      "execution_count": 4,
      "outputs": [
        {
          "output_type": "stream",
          "text": [
            "Cloning into 'openvino_tensorflow'...\n",
            "remote: Enumerating objects: 14188, done.\u001b[K\n",
            "remote: Counting objects: 100% (965/965), done.\u001b[K\n",
            "remote: Compressing objects: 100% (496/496), done.\u001b[K\n",
            "remote: Total 14188 (delta 609), reused 756 (delta 458), pack-reused 13223\u001b[K\n",
            "Receiving objects: 100% (14188/14188), 20.20 MiB | 31.15 MiB/s, done.\n",
            "Resolving deltas: 100% (10901/10901), done.\n",
            "/content/openvino_tensorflow\n",
            "Submodule 'ocm' (https://github.com/intel/ocm) registered for path 'ocm'\n",
            "Cloning into '/content/openvino_tensorflow/ocm'...\n",
            "Submodule path 'ocm': checked out '3e699e473c26019970cd53ba4b32c30b820b6809'\n",
            "/content\n"
          ],
          "name": "stdout"
        }
      ]
    },
    {
      "cell_type": "markdown",
      "metadata": {
        "id": "_D2yhLwy09P9"
      },
      "source": [
        "# Lets get the model"
      ]
    },
    {
      "cell_type": "code",
      "metadata": {
        "colab": {
          "base_uri": "https://localhost:8080/"
        },
        "id": "qXgPfp4HxtG2",
        "outputId": "7a842b2c-9750-4d18-ad7f-6548d5a84cd6"
      },
      "source": [
        "!curl -L \"https://storage.googleapis.com/download.tensorflow.org/models/inception_v3_2016_08_28_frozen.pb.tar.gz\" | tar -C openvino_tensorflow/examples/data -xz \n"
      ],
      "execution_count": 5,
      "outputs": [
        {
          "output_type": "stream",
          "text": [
            "  % Total    % Received % Xferd  Average Speed   Time    Time     Time  Current\n",
            "                                 Dload  Upload   Total   Spent    Left  Speed\n",
            "100 84.5M  100 84.5M    0     0  62.9M      0  0:00:01  0:00:01 --:--:-- 62.8M\n"
          ],
          "name": "stdout"
        }
      ]
    },
    {
      "cell_type": "markdown",
      "metadata": {
        "id": "tDQDLFx69izd"
      },
      "source": [
        "# Now lets infer"
      ]
    },
    {
      "cell_type": "code",
      "metadata": {
        "id": "1EImyzDiiHGW"
      },
      "source": [
        "from __future__ import absolute_import, division, print_function, unicode_literals\n",
        "from tensorflow.keras import backend as K\n",
        "from IPython.display import HTML\n",
        "\n",
        "import tensorflow as tf\n",
        "import numpy as np\n",
        "import time\n",
        "import argparse\n",
        "import matplotlib.pyplot as plt\n",
        "import os\n",
        "import openvino_tensorflow as ovtf\n",
        "from subprocess import check_output, call\n"
      ],
      "execution_count": 6,
      "outputs": []
    },
    {
      "cell_type": "code",
      "metadata": {
        "id": "tzNof2kniUfj"
      },
      "source": [
        "def load_graph(model_file):\n",
        "    graph = tf.Graph()\n",
        "    graph_def = tf.compat.v1.GraphDef()\n",
        "\n",
        "    assert os.path.exists(model_file), \"Could not find directory\"\n",
        "    with open(model_file, \"rb\") as f:\n",
        "        graph_def.ParseFromString(f.read())\n",
        "    with graph.as_default():\n",
        "        tf.import_graph_def(graph_def)\n",
        "\n",
        "    return graph"
      ],
      "execution_count": 7,
      "outputs": []
    },
    {
      "cell_type": "code",
      "metadata": {
        "id": "h7Hlw2oDZXgu"
      },
      "source": [
        "\n",
        "def read_tensor_from_image_file(file_name,\n",
        "                                input_height=299,\n",
        "                                input_width=299,\n",
        "                                input_mean=0,\n",
        "                                input_std=255):\n",
        "    input_name = \"file_reader\"\n",
        "    output_name = \"normalized\"\n",
        "    file_reader = tf.io.read_file(file_name, input_name)\n",
        "    if file_name.endswith(\".png\"):\n",
        "        image_reader = tf.image.decode_png(\n",
        "            file_reader, channels=3, name=\"png_reader\")\n",
        "    elif file_name.endswith(\".gif\"):\n",
        "        image_reader = tf.squeeze(\n",
        "            tf.image.decode_gif(file_reader, name=\"gif_reader\"))\n",
        "    elif file_name.endswith(\".bmp\"):\n",
        "        image_reader = tf.image.decode_bmp(file_reader, name=\"bmp_reader\")\n",
        "    else:\n",
        "        image_reader = tf.image.decode_jpeg(\n",
        "            file_reader, channels=3, name=\"jpeg_reader\")\n",
        "    float_caster = tf.cast(image_reader, tf.float32)\n",
        "    dims_expander = tf.expand_dims(float_caster, 0)\n",
        "    resized = tf.compat.v1.image.resize_bilinear(dims_expander,\n",
        "                                                 [input_height, input_width])\n",
        "    normalized = tf.divide(tf.subtract(resized, [input_mean]), [input_std])\n",
        "    sess = tf.compat.v1.Session()\n",
        "    result = sess.run(normalized)\n",
        "\n",
        "    return result"
      ],
      "execution_count": 8,
      "outputs": []
    },
    {
      "cell_type": "code",
      "metadata": {
        "id": "Mt54fcWXZbZA"
      },
      "source": [
        "def load_labels(label_file):\n",
        "    label = []\n",
        "    proto_as_ascii_lines = tf.io.gfile.GFile(label_file).readlines()\n",
        "    for l in proto_as_ascii_lines:\n",
        "        label.append(l.rstrip())\n",
        "    return label"
      ],
      "execution_count": 9,
      "outputs": []
    },
    {
      "cell_type": "code",
      "metadata": {
        "id": "e812DUX92T43"
      },
      "source": [
        "def infer_openvino_tensorflow(model_file, input_layer, output_layer, file_name , input_height, input_width, input_mean, input_std, label_file):\n",
        "    print(\"CREATE MODEL - BEGIN\")\n",
        "    graph = load_graph(model_file)\n",
        "    print(\"CREATE MODEL - END\")\n",
        "\n",
        "    input_name = \"import/\" + input_layer\n",
        "    output_name = \"import/\" + output_layer\n",
        "    input_operation = graph.get_operation_by_name(input_name)\n",
        "    output_operation = graph.get_operation_by_name(output_name)\n",
        "\n",
        "\n",
        "    # update config params for openvino tensorflow\n",
        "    config = tf.compat.v1.ConfigProto()\n",
        "    config_ngraph_enabled = ovtf.update_config(config)\n",
        "\n",
        "    print(\"PREDICTION - BEGIN\") \n",
        "\n",
        "    with tf.compat.v1.Session(\n",
        "            graph=graph, config=config_ngraph_enabled) as sess:\n",
        "        t = read_tensor_from_image_file(\n",
        "            file_name,\n",
        "            input_height=input_height,\n",
        "            input_width=input_width,\n",
        "            input_mean=input_mean,\n",
        "            input_std=input_std)\n",
        "        # Warmup\n",
        "        results = sess.run(output_operation.outputs[0],\n",
        "                           {input_operation.outputs[0]: t})\n",
        "        # Run\n",
        "        \n",
        "        for num_times in range(10):\n",
        "            start = time.time()\n",
        "            results = sess.run(output_operation.outputs[0],\n",
        "                               {input_operation.outputs[0]: t})\n",
        "            elapsed = time.time() - start\n",
        "            print('Inference time in ms: %f' % (elapsed * 1000))\n",
        "            \n",
        "    print(\"PREDICTION - END\")\n",
        "    results = np.squeeze(results)\n",
        "\n",
        "    if label_file:\n",
        "        top_k = results.argsort()[-5:][::-1]\n",
        "        labels = load_labels(label_file)\n",
        "        for i in top_k:\n",
        "            print(labels[i], results[i])\n",
        "    else:\n",
        "        print(\"No label file provided. Cannot print classification results\")"
      ],
      "execution_count": 10,
      "outputs": []
    },
    {
      "cell_type": "code",
      "metadata": {
        "id": "5Wxwq5184tkt",
        "colab": {
          "base_uri": "https://localhost:8080/"
        },
        "outputId": "4606a4bd-7e53-41cf-b892-fe3a3c5e7e4c"
      },
      "source": [
        "%cd openvino_tensorflow/examples/data/"
      ],
      "execution_count": 11,
      "outputs": [
        {
          "output_type": "stream",
          "text": [
            "/content/openvino_tensorflow/examples/data\n"
          ],
          "name": "stdout"
        }
      ]
    },
    {
      "cell_type": "code",
      "metadata": {
        "colab": {
          "base_uri": "https://localhost:8080/"
        },
        "id": "_Dr7HWdgZds6",
        "outputId": "fbb351cc-34ec-4bfa-e3ca-0553fc112e54"
      },
      "source": [
        "file_name = \"grace_hopper.jpg\"\n",
        "model_file = \"inception_v3_2016_08_28_frozen.pb\"\n",
        "label_file = \"imagenet_slim_labels.txt\"\n",
        "input_height = 299\n",
        "input_width = 299\n",
        "input_mean = 0\n",
        "input_std = 255\n",
        "input_layer = \"input\"\n",
        "output_layer = \"InceptionV3/Predictions/Reshape_1\"\n",
        "backend_name = \"CPU\"\n",
        "    \n",
        "\n",
        "#Print list of available backends\n",
        "print('Available Backends:')\n",
        "backends_list = ovtf.list_backends()\n",
        "for backend in backends_list:\n",
        "    print(backend)\n",
        "ovtf.set_backend(backend_name)\n",
        "\n",
        "print(\"OpenVINO TensorFlow is enabled\")\n",
        "infer_openvino_tensorflow(model_file, input_layer, output_layer, file_name, input_height, input_width, input_mean, input_std, label_file )\n",
        "\n"
      ],
      "execution_count": 12,
      "outputs": [
        {
          "output_type": "stream",
          "text": [
            "Available Backends:\n",
            "CPU\n",
            "OpenVINO TensorFlow is enabled\n",
            "CREATE MODEL - BEGIN\n",
            "CREATE MODEL - END\n",
            "PREDICTION - BEGIN\n",
            "Inference time in ms: 169.880152\n",
            "Inference time in ms: 160.679817\n",
            "Inference time in ms: 164.356947\n",
            "Inference time in ms: 163.445950\n",
            "Inference time in ms: 166.368008\n",
            "Inference time in ms: 160.454988\n",
            "Inference time in ms: 173.298836\n",
            "Inference time in ms: 161.949396\n",
            "Inference time in ms: 164.052248\n",
            "Inference time in ms: 162.285328\n",
            "PREDICTION - END\n",
            "military uniform 0.8343048\n",
            "mortarboard 0.021869866\n",
            "academic gown 0.010358192\n",
            "pickelhaube 0.008008161\n",
            "bulletproof vest 0.0053508896\n"
          ],
          "name": "stdout"
        }
      ]
    },
    {
      "cell_type": "code",
      "metadata": {
        "id": "nQXt492OASb8",
        "colab": {
          "base_uri": "https://localhost:8080/"
        },
        "outputId": "02f0c8d2-22a7-4e21-bae3-77b15cd4d744"
      },
      "source": [
        "#Disable\n",
        "ovtf.disable()\n",
        "print(\"\")\n",
        "print(\"\")\n",
        "print(\"OpenVINO TensorFlow is disabled\")\n",
        "infer_openvino_tensorflow(model_file, input_layer, output_layer, file_name, input_height, input_width, input_mean, input_std, label_file )\n",
        "ovtf.enable()\n"
      ],
      "execution_count": 13,
      "outputs": [
        {
          "output_type": "stream",
          "text": [
            "\n",
            "\n",
            "OpenVINO TensorFlow is disabled\n",
            "CREATE MODEL - BEGIN\n",
            "CREATE MODEL - END\n",
            "PREDICTION - BEGIN\n",
            "Inference time in ms: 198.520184\n",
            "Inference time in ms: 203.818321\n",
            "Inference time in ms: 209.498405\n",
            "Inference time in ms: 199.054480\n",
            "Inference time in ms: 206.291437\n",
            "Inference time in ms: 206.650734\n",
            "Inference time in ms: 207.066536\n",
            "Inference time in ms: 213.644743\n",
            "Inference time in ms: 205.952406\n",
            "Inference time in ms: 198.025465\n",
            "PREDICTION - END\n",
            "military uniform 0.83430624\n",
            "mortarboard 0.021869497\n",
            "academic gown 0.010358062\n",
            "pickelhaube 0.008008163\n",
            "bulletproof vest 0.0053508915\n"
          ],
          "name": "stdout"
        }
      ]
    }
  ]
}